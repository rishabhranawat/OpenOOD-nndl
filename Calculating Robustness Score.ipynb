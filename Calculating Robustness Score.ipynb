{
 "cells": [
  {
   "cell_type": "code",
   "execution_count": 1,
   "id": "0384642a",
   "metadata": {},
   "outputs": [],
   "source": [
    "import time\n",
    "import json\n",
    "\n",
    "import numpy as np\n",
    "import pandas as pd"
   ]
  },
  {
   "cell_type": "code",
   "execution_count": 2,
   "id": "7d7d06c2",
   "metadata": {},
   "outputs": [],
   "source": [
    "df = pd.read_csv('oodn_odin_mcd_results_v1.csv')"
   ]
  },
  {
   "cell_type": "code",
   "execution_count": 3,
   "id": "5ecf3dec",
   "metadata": {},
   "outputs": [],
   "source": [
    "dataset_type = 'cifar'\n",
    "postprocessors = ['mcd', 'odin']\n",
    "activations = ['relu', 'softplus']\n",
    "optimizers = ['SGD', 'Adam']\n",
    "metric = 'AUROC'\n",
    "\n",
    "stats_for_pp = {}\n",
    "for pp in postprocessors:\n",
    "    total_conf = 0\n",
    "    distribution_stats_per_a_o = {}\n",
    "    sub_df = df[(df['Dataset'] == dataset_type) & (df['PostProcessor'] == pp)]\n",
    "    for a in activations:\n",
    "        for o in optimizers:\n",
    "            key = a+\"_\"+o\n",
    "            \n",
    "            sub_sub_df = sub_df[(sub_df['Activation'] == a) & (sub_df['Optimizer'] == o)][metric]\n",
    "            conf =  1/np.sqrt(sub_sub_df.var())\n",
    "            distribution_stats_per_a_o[key] = {'mean': sub_sub_df.mean(), \n",
    "                                                  'var': sub_sub_df.var(), \n",
    "                                                  'conf': conf}    \n",
    "            total_conf += conf\n",
    "    \n",
    "    for key, stats in distribution_stats_per_a_o.items():\n",
    "        stats['weight'] = stats['conf']/total_conf\n",
    "    stats_for_pp[pp] = distribution_stats_per_a_o\n"
   ]
  },
  {
   "cell_type": "code",
   "execution_count": 6,
   "id": "f11c871e",
   "metadata": {},
   "outputs": [],
   "source": [
    "final_mean_var_pp = {}\n",
    "\n",
    "for pp, a_o_stats in stats_for_pp.items():\n",
    "    weighted_mean = 0\n",
    "    for key, per_a_o_stats in a_o_stats.items():\n",
    "        weighted_mean += (per_a_o_stats['mean'] * per_a_o_stats['weight'])\n",
    "    final_mean_var_pp[pp] = { 'weighted_mean': weighted_mean }\n",
    "\n",
    "    weighted_var = 0\n",
    "    for key, per_a_o_stats in a_o_stats.items():\n",
    "        weighted_var += per_a_o_stats['weight']*(per_a_o_stats['var'] + (weighted_mean - per_a_o_stats['mean'])**2)\n",
    "    final_mean_var_pp[pp]['weighted_var'] = weighted_var"
   ]
  },
  {
   "cell_type": "code",
   "execution_count": 7,
   "id": "6bd64fc5",
   "metadata": {},
   "outputs": [
    {
     "name": "stdout",
     "output_type": "stream",
     "text": [
      "mcd 0.04288593604590558\n",
      "odin 0.030402886587164866\n"
     ]
    }
   ],
   "source": [
    "for pp, weighted_stats in final_mean_var_pp.items():\n",
    "    print(pp, np.sqrt(weighted_stats['weighted_var'])/weighted_stats['weighted_mean'])"
   ]
  },
  {
   "cell_type": "code",
   "execution_count": null,
   "id": "f3e5dba1",
   "metadata": {},
   "outputs": [],
   "source": []
  }
 ],
 "metadata": {
  "kernelspec": {
   "display_name": "Python 3",
   "language": "python",
   "name": "python3"
  },
  "language_info": {
   "codemirror_mode": {
    "name": "ipython",
    "version": 3
   },
   "file_extension": ".py",
   "mimetype": "text/x-python",
   "name": "python",
   "nbconvert_exporter": "python",
   "pygments_lexer": "ipython3",
   "version": "3.7.12"
  }
 },
 "nbformat": 4,
 "nbformat_minor": 5
}
