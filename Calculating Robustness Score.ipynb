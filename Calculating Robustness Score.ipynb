{
 "cells": [
  {
   "cell_type": "code",
   "execution_count": 1,
   "id": "7d5ddea1",
   "metadata": {},
   "outputs": [],
   "source": [
    "import time\n",
    "import json\n",
    "\n",
    "import numpy as np\n",
    "import pandas as pd"
   ]
  },
  {
   "cell_type": "code",
   "execution_count": 2,
   "id": "efc2049a",
   "metadata": {},
   "outputs": [],
   "source": [
    "def calculate_robustness_score_for_dataset(\n",
    "        df,\n",
    "        dataset_type,\n",
    "        postprocessors,\n",
    "        activations,\n",
    "        optimizers,\n",
    "        metric):\n",
    "    stats_for_pp = {}\n",
    "    for pp in postprocessors:\n",
    "        total_conf = 0\n",
    "        distribution_stats_per_a_o = {}\n",
    "        sub_df = df[(df['Dataset'] == dataset_type) & (df['PostProcessor'] == pp)]\n",
    "        for a in activations:\n",
    "            for o in optimizers:\n",
    "                key = a+\"_\"+o\n",
    "\n",
    "                sub_sub_df = sub_df[(sub_df['Activation'] == a) & (sub_df['Optimizer'] == o)][metric]\n",
    "                conf =  1/np.sqrt(sub_sub_df.var())\n",
    "                distribution_stats_per_a_o[key] = {'mean': sub_sub_df.mean(), \n",
    "                                                      'var': sub_sub_df.var(), \n",
    "                                                      'conf': conf}    \n",
    "                total_conf += conf\n",
    "\n",
    "        for key, stats in distribution_stats_per_a_o.items():\n",
    "            stats['weight'] = stats['conf']/total_conf\n",
    "        stats_for_pp[pp] = distribution_stats_per_a_o\n",
    "\n",
    "    final_mean_var_pp = {}\n",
    "\n",
    "    for pp, a_o_stats in stats_for_pp.items():\n",
    "        weighted_mean = 0\n",
    "        for key, per_a_o_stats in a_o_stats.items():\n",
    "            weighted_mean += (per_a_o_stats['mean'] * per_a_o_stats['weight'])\n",
    "        final_mean_var_pp[pp] = { 'weighted_mean': weighted_mean }\n",
    "\n",
    "        weighted_var = 0\n",
    "        for key, per_a_o_stats in a_o_stats.items():\n",
    "            weighted_var += per_a_o_stats['weight']*(per_a_o_stats['var'] + (weighted_mean - per_a_o_stats['mean'])**2)\n",
    "        final_mean_var_pp[pp]['weighted_var'] = weighted_var\n",
    "\n",
    "    for pp, weighted_stats in final_mean_var_pp.items():\n",
    "        print(pp, np.sqrt(weighted_stats['weighted_var'])/weighted_stats['weighted_mean'])"
   ]
  },
  {
   "cell_type": "code",
   "execution_count": 3,
   "id": "62af61f9",
   "metadata": {},
   "outputs": [],
   "source": [
    "def calculate_marginal_for_activations(\n",
    "        df,\n",
    "        dataset_type,\n",
    "        postprocessors,\n",
    "        activations,\n",
    "        optimizers,\n",
    "        metric):\n",
    "    stats_for_pp = {}\n",
    "    for pp in postprocessors:\n",
    "        total_conf = 0\n",
    "        distribution_stats_per_a_o = {}\n",
    "        sub_df = df[(df['Dataset'] == dataset_type) & (df['PostProcessor'] == pp)]\n",
    "        for a in activations:\n",
    "            key = a\n",
    "            sub_sub_df = sub_df[(sub_df['Activation'] == a)][metric]\n",
    "            conf =  1/np.sqrt(sub_sub_df.var())\n",
    "            distribution_stats_per_a_o[key] = {'mean': sub_sub_df.mean(), \n",
    "                                                  'var': sub_sub_df.var(), \n",
    "                                                  'conf': conf}    \n",
    "            total_conf += conf\n",
    "\n",
    "        for key, stats in distribution_stats_per_a_o.items():\n",
    "            stats['weight'] = stats['conf']/total_conf\n",
    "        stats_for_pp[pp] = distribution_stats_per_a_o\n",
    "    \n",
    "    print(stats_for_pp)\n",
    "    final_mean_var_pp = {}\n",
    "\n",
    "    for pp, a_o_stats in stats_for_pp.items():\n",
    "        weighted_mean = 0\n",
    "        for key, per_a_o_stats in a_o_stats.items():\n",
    "            weighted_mean += (per_a_o_stats['mean'] * per_a_o_stats['weight'])\n",
    "        final_mean_var_pp[pp] = { 'weighted_mean': weighted_mean }\n",
    "\n",
    "        weighted_var = 0\n",
    "        for key, per_a_o_stats in a_o_stats.items():\n",
    "            weighted_var += per_a_o_stats['weight']*(per_a_o_stats['var'] + (weighted_mean - per_a_o_stats['mean'])**2)\n",
    "        final_mean_var_pp[pp]['weighted_var'] = weighted_var\n",
    "\n",
    "    for pp, weighted_stats in final_mean_var_pp.items():\n",
    "        print(pp, np.sqrt(weighted_stats['weighted_var'])/weighted_stats['weighted_mean'])"
   ]
  },
  {
   "cell_type": "code",
   "execution_count": 4,
   "id": "425582a1",
   "metadata": {},
   "outputs": [],
   "source": [
    "def calculate_marginal_for_optimizers(\n",
    "        df,\n",
    "        dataset_type,\n",
    "        postprocessors,\n",
    "        activations,\n",
    "        optimizers,\n",
    "        metric):\n",
    "    stats_for_pp = {}\n",
    "    for pp in postprocessors:\n",
    "        total_conf = 0\n",
    "        distribution_stats_per_a_o = {}\n",
    "        sub_df = df[(df['Dataset'] == dataset_type) & (df['PostProcessor'] == pp)]\n",
    "        for o in optimizers:\n",
    "            key = o\n",
    "            sub_sub_df = sub_df[(sub_df['Optimizer'] == o)][metric]\n",
    "            conf =  1/np.sqrt(sub_sub_df.var())\n",
    "            distribution_stats_per_a_o[key] = {'mean': sub_sub_df.mean(), \n",
    "                                                  'var': sub_sub_df.var(), \n",
    "                                                  'conf': conf}    \n",
    "            total_conf += conf\n",
    "\n",
    "        for key, stats in distribution_stats_per_a_o.items():\n",
    "            stats['weight'] = stats['conf']/total_conf\n",
    "        stats_for_pp[pp] = distribution_stats_per_a_o\n",
    "    \n",
    "    print(stats_for_pp)\n",
    "    final_mean_var_pp = {}\n",
    "\n",
    "    for pp, a_o_stats in stats_for_pp.items():\n",
    "        weighted_mean = 0\n",
    "        for key, per_a_o_stats in a_o_stats.items():\n",
    "            weighted_mean += (per_a_o_stats['mean'] * per_a_o_stats['weight'])\n",
    "        final_mean_var_pp[pp] = { 'weighted_mean': weighted_mean }\n",
    "\n",
    "        weighted_var = 0\n",
    "        for key, per_a_o_stats in a_o_stats.items():\n",
    "            weighted_var += per_a_o_stats['weight']*(per_a_o_stats['var'] + (weighted_mean - per_a_o_stats['mean'])**2)\n",
    "        final_mean_var_pp[pp]['weighted_var'] = weighted_var\n",
    "\n",
    "    for pp, weighted_stats in final_mean_var_pp.items():\n",
    "        print(pp, np.sqrt(weighted_stats['weighted_var'])/weighted_stats['weighted_mean'])"
   ]
  },
  {
   "cell_type": "markdown",
   "id": "797b6429",
   "metadata": {},
   "source": [
    "### Robustness Score For MNIST"
   ]
  },
  {
   "cell_type": "code",
   "execution_count": 5,
   "id": "b6e00dff",
   "metadata": {},
   "outputs": [
    {
     "name": "stdout",
     "output_type": "stream",
     "text": [
      "mcd 0.019863695545259616\n",
      "odin 0.007995262031607268\n"
     ]
    }
   ],
   "source": [
    "df = pd.read_csv('oodn_odin_mcd_results_v1.csv')\n",
    "dataset_type = 'mnist'\n",
    "postprocessors = ['mcd', 'odin']\n",
    "activations = ['relu', 'softplus']\n",
    "optimizers = ['SGD', 'Adam']\n",
    "metric = 'AUROC'\n",
    "\n",
    "calculate_robustness_score_for_dataset(\n",
    "        df,\n",
    "        dataset_type,\n",
    "        postprocessors,\n",
    "        activations,\n",
    "        optimizers,\n",
    "        metric)"
   ]
  },
  {
   "cell_type": "code",
   "execution_count": 6,
   "id": "36e639e2",
   "metadata": {},
   "outputs": [
    {
     "name": "stdout",
     "output_type": "stream",
     "text": [
      "{'mcd': {'relu': {'mean': 98.61666666666667, 'var': 0.34846666666667114, 'conf': 1.6940233002084395, 'weight': 0.8714385215699936}, 'softplus': {'mean': 95.06, 'var': 16.010799999999993, 'conf': 0.2499156676908309, 'weight': 0.12856147843000637}}, 'odin': {'relu': {'mean': 99.49166666666667, 'var': 0.05113666666666559, 'conf': 4.422153284483592, 'weight': 0.9229650098385574}, 'softplus': {'mean': 97.19, 'var': 7.34052, 'conf': 0.3690936613319411, 'weight': 0.07703499016144251}}}\n",
      "mcd 0.019804813576411687\n",
      "odin 0.01001523450658029\n"
     ]
    }
   ],
   "source": [
    "df = pd.read_csv('oodn_odin_mcd_results_v1.csv')\n",
    "dataset_type = 'mnist'\n",
    "postprocessors = ['mcd', 'odin']\n",
    "activations = ['relu', 'softplus']\n",
    "optimizers = ['SGD', 'Adam']\n",
    "metric = 'AUROC'\n",
    "\n",
    "calculate_marginal_for_activations(\n",
    "        df,\n",
    "        dataset_type,\n",
    "        postprocessors,\n",
    "        activations,\n",
    "        optimizers,\n",
    "        metric)"
   ]
  },
  {
   "cell_type": "code",
   "execution_count": 10,
   "id": "081b5fff",
   "metadata": {},
   "outputs": [
    {
     "name": "stdout",
     "output_type": "stream",
     "text": [
      "{'mcd': {'SGD': {'mean': 98.17333333333333, 'var': 1.050666666666673, 'conf': 0.9755904108519041, 'weight': 0.8080575290465987}, 'Adam': {'mean': 95.50333333333333, 'var': 18.621186666666695, 'conf': 0.2317375030442415, 'weight': 0.19194247095340128}}, 'odin': {'SGD': {'mean': 99.265, 'var': 0.11954999999999902, 'conf': 2.8921792755534153, 'weight': 0.8934218275207201}, 'Adam': {'mean': 97.41666666666667, 'var': 8.400906666666668, 'conf': 0.3450141603617603, 'weight': 0.1065781724792799}}}\n",
      "mcd 0.02407678915650231\n",
      "odin 0.011629947691945634\n"
     ]
    }
   ],
   "source": [
    "df = pd.read_csv('oodn_odin_mcd_results_v1.csv')\n",
    "dataset_type = 'mnist'\n",
    "postprocessors = ['mcd', 'odin']\n",
    "activations = ['relu', 'softplus']\n",
    "optimizers = ['SGD', 'Adam']\n",
    "metric = 'AUROC'\n",
    "\n",
    "calculate_marginal_for_optimizers(\n",
    "        df,\n",
    "        dataset_type,\n",
    "        postprocessors,\n",
    "        activations,\n",
    "        optimizers,\n",
    "        metric)"
   ]
  },
  {
   "cell_type": "markdown",
   "id": "512735cd",
   "metadata": {},
   "source": [
    "### Robustness Score For CIFAR"
   ]
  },
  {
   "cell_type": "code",
   "execution_count": 7,
   "id": "78d14315",
   "metadata": {},
   "outputs": [
    {
     "name": "stdout",
     "output_type": "stream",
     "text": [
      "mcd 0.04288593604590558\n",
      "odin 0.030402886587164866\n"
     ]
    }
   ],
   "source": [
    "df = pd.read_csv('oodn_odin_mcd_results_v1.csv')\n",
    "dataset_type = 'cifar'\n",
    "postprocessors = ['mcd', 'odin']\n",
    "activations = ['relu', 'softplus']\n",
    "optimizers = ['SGD', 'Adam']\n",
    "metric = 'AUROC'\n",
    "\n",
    "calculate_robustness_score_for_dataset(\n",
    "        df,\n",
    "        dataset_type,\n",
    "        postprocessors,\n",
    "        activations,\n",
    "        optimizers,\n",
    "        metric)"
   ]
  },
  {
   "cell_type": "code",
   "execution_count": 8,
   "id": "fc931119",
   "metadata": {},
   "outputs": [
    {
     "name": "stdout",
     "output_type": "stream",
     "text": [
      "{'mcd': {'relu': {'mean': 67.925, 'var': 12.378909999999992, 'conf': 0.28422272390517755, 'weight': 0.2865565239331451}, 'softplus': {'mean': 65.31333333333333, 'var': 1.9970266666666696, 'conf': 0.7076329840161257, 'weight': 0.7134434760668549}}, 'odin': {'relu': {'mean': 79.33166666666666, 'var': 4.5995366666666735, 'conf': 0.46627588744642, 'weight': 0.665991264045911}, 'softplus': {'mean': 77.40333333333334, 'var': 18.286706666666685, 'conf': 0.23384724121713654, 'weight': 0.33400873595408903}}}\n",
      "mcd 0.038194411089270956\n",
      "odin 0.040184407953758355\n"
     ]
    }
   ],
   "source": [
    "df = pd.read_csv('oodn_odin_mcd_results_v1.csv')\n",
    "dataset_type = 'cifar'\n",
    "postprocessors = ['mcd', 'odin']\n",
    "activations = ['relu', 'softplus']\n",
    "optimizers = ['SGD', 'Adam']\n",
    "metric = 'AUROC'\n",
    "\n",
    "calculate_marginal_for_activations(\n",
    "        df,\n",
    "        dataset_type,\n",
    "        postprocessors,\n",
    "        activations,\n",
    "        optimizers,\n",
    "        metric)"
   ]
  },
  {
   "cell_type": "code",
   "execution_count": 9,
   "id": "2a67038d",
   "metadata": {},
   "outputs": [
    {
     "name": "stdout",
     "output_type": "stream",
     "text": [
      "{'mcd': {'SGD': {'mean': 67.40666666666667, 'var': 12.67694666666667, 'conf': 0.2808617958288894, 'weight': 0.3681352195529563}, 'Adam': {'mean': 65.83166666666666, 'var': 4.303096666666661, 'conf': 0.4820692711033997, 'weight': 0.6318647804470438}}, 'odin': {'SGD': {'mean': 76.485, 'var': 13.145270000000014, 'conf': 0.2758133254810892, 'weight': 0.3393039239929954}, 'Adam': {'mean': 80.25, 'var': 3.466920000000003, 'conf': 0.537066532303235, 'weight': 0.6606960760070046}}}\n",
      "mcd 0.04249037015295456\n",
      "odin 0.03989950723904008\n"
     ]
    }
   ],
   "source": [
    "df = pd.read_csv('oodn_odin_mcd_results_v1.csv')\n",
    "dataset_type = 'cifar'\n",
    "postprocessors = ['mcd', 'odin']\n",
    "activations = ['relu', 'softplus']\n",
    "optimizers = ['SGD', 'Adam']\n",
    "metric = 'AUROC'\n",
    "\n",
    "calculate_marginal_for_optimizers(\n",
    "        df,\n",
    "        dataset_type,\n",
    "        postprocessors,\n",
    "        activations,\n",
    "        optimizers,\n",
    "        metric)"
   ]
  },
  {
   "cell_type": "code",
   "execution_count": 23,
   "id": "6af48b7c",
   "metadata": {},
   "outputs": [
    {
     "data": {
      "text/plain": [
       "80.25"
      ]
     },
     "execution_count": 23,
     "metadata": {},
     "output_type": "execute_result"
    }
   ],
   "source": [
    "df[(df['Dataset']=='cifar') & (df['Optimizer'] == 'Adam') & (df['PostProcessor'] == 'odin')]['AUROC'].mean()"
   ]
  },
  {
   "cell_type": "code",
   "execution_count": null,
   "id": "8a0d497a",
   "metadata": {},
   "outputs": [],
   "source": []
  }
 ],
 "metadata": {
  "kernelspec": {
   "display_name": "Python 3",
   "language": "python",
   "name": "python3"
  },
  "language_info": {
   "codemirror_mode": {
    "name": "ipython",
    "version": 3
   },
   "file_extension": ".py",
   "mimetype": "text/x-python",
   "name": "python",
   "nbconvert_exporter": "python",
   "pygments_lexer": "ipython3",
   "version": "3.7.12"
  }
 },
 "nbformat": 4,
 "nbformat_minor": 5
}
